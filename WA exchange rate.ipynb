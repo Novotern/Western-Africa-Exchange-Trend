{
 "cells": [
  {
   "cell_type": "code",
   "execution_count": 26,
   "metadata": {},
   "outputs": [],
   "source": [
    "import pandas as pd\n",
    "import plotly.express as px"
   ]
  },
  {
   "cell_type": "code",
   "execution_count": 27,
   "metadata": {},
   "outputs": [
    {
     "data": {
      "text/html": [
       "<div>\n",
       "<style scoped>\n",
       "    .dataframe tbody tr th:only-of-type {\n",
       "        vertical-align: middle;\n",
       "    }\n",
       "\n",
       "    .dataframe tbody tr th {\n",
       "        vertical-align: top;\n",
       "    }\n",
       "\n",
       "    .dataframe thead th {\n",
       "        text-align: right;\n",
       "    }\n",
       "</style>\n",
       "<table border=\"1\" class=\"dataframe\">\n",
       "  <thead>\n",
       "    <tr style=\"text-align: right;\">\n",
       "      <th></th>\n",
       "      <th>Country Name</th>\n",
       "      <th>Country Code</th>\n",
       "      <th>Indicator Name</th>\n",
       "      <th>Indicator Code</th>\n",
       "      <th>1960</th>\n",
       "      <th>1961</th>\n",
       "      <th>1962</th>\n",
       "      <th>1963</th>\n",
       "      <th>1964</th>\n",
       "      <th>1965</th>\n",
       "      <th>...</th>\n",
       "      <th>2014</th>\n",
       "      <th>2015</th>\n",
       "      <th>2016</th>\n",
       "      <th>2017</th>\n",
       "      <th>2018</th>\n",
       "      <th>2019</th>\n",
       "      <th>2020</th>\n",
       "      <th>2021</th>\n",
       "      <th>2022</th>\n",
       "      <th>Unnamed: 67</th>\n",
       "    </tr>\n",
       "  </thead>\n",
       "  <tbody>\n",
       "    <tr>\n",
       "      <th>0</th>\n",
       "      <td>Aruba</td>\n",
       "      <td>ABW</td>\n",
       "      <td>Official exchange rate (LCU per US$, period av...</td>\n",
       "      <td>PA.NUS.FCRF</td>\n",
       "      <td>NaN</td>\n",
       "      <td>NaN</td>\n",
       "      <td>NaN</td>\n",
       "      <td>NaN</td>\n",
       "      <td>NaN</td>\n",
       "      <td>NaN</td>\n",
       "      <td>...</td>\n",
       "      <td>1.790000</td>\n",
       "      <td>1.790000</td>\n",
       "      <td>1.790000</td>\n",
       "      <td>1.790000</td>\n",
       "      <td>1.790000</td>\n",
       "      <td>1.790000</td>\n",
       "      <td>1.790000</td>\n",
       "      <td>1.790000</td>\n",
       "      <td>1.790000</td>\n",
       "      <td>NaN</td>\n",
       "    </tr>\n",
       "    <tr>\n",
       "      <th>1</th>\n",
       "      <td>Africa Eastern and Southern</td>\n",
       "      <td>AFE</td>\n",
       "      <td>Official exchange rate (LCU per US$, period av...</td>\n",
       "      <td>PA.NUS.FCRF</td>\n",
       "      <td>NaN</td>\n",
       "      <td>NaN</td>\n",
       "      <td>NaN</td>\n",
       "      <td>NaN</td>\n",
       "      <td>NaN</td>\n",
       "      <td>NaN</td>\n",
       "      <td>...</td>\n",
       "      <td>NaN</td>\n",
       "      <td>NaN</td>\n",
       "      <td>NaN</td>\n",
       "      <td>NaN</td>\n",
       "      <td>NaN</td>\n",
       "      <td>NaN</td>\n",
       "      <td>NaN</td>\n",
       "      <td>NaN</td>\n",
       "      <td>NaN</td>\n",
       "      <td>NaN</td>\n",
       "    </tr>\n",
       "    <tr>\n",
       "      <th>2</th>\n",
       "      <td>Afghanistan</td>\n",
       "      <td>AFG</td>\n",
       "      <td>Official exchange rate (LCU per US$, period av...</td>\n",
       "      <td>PA.NUS.FCRF</td>\n",
       "      <td>1.719656e+01</td>\n",
       "      <td>1.719656e+01</td>\n",
       "      <td>1.719656e+01</td>\n",
       "      <td>3.510964e+01</td>\n",
       "      <td>3.869226e+01</td>\n",
       "      <td>3.869226e+01</td>\n",
       "      <td>...</td>\n",
       "      <td>57.247500</td>\n",
       "      <td>61.143462</td>\n",
       "      <td>67.866086</td>\n",
       "      <td>68.026904</td>\n",
       "      <td>72.083247</td>\n",
       "      <td>77.737949</td>\n",
       "      <td>76.813536</td>\n",
       "      <td>NaN</td>\n",
       "      <td>NaN</td>\n",
       "      <td>NaN</td>\n",
       "    </tr>\n",
       "    <tr>\n",
       "      <th>3</th>\n",
       "      <td>Africa Western and Central</td>\n",
       "      <td>AFW</td>\n",
       "      <td>Official exchange rate (LCU per US$, period av...</td>\n",
       "      <td>PA.NUS.FCRF</td>\n",
       "      <td>NaN</td>\n",
       "      <td>NaN</td>\n",
       "      <td>NaN</td>\n",
       "      <td>NaN</td>\n",
       "      <td>NaN</td>\n",
       "      <td>NaN</td>\n",
       "      <td>...</td>\n",
       "      <td>NaN</td>\n",
       "      <td>NaN</td>\n",
       "      <td>NaN</td>\n",
       "      <td>NaN</td>\n",
       "      <td>NaN</td>\n",
       "      <td>NaN</td>\n",
       "      <td>NaN</td>\n",
       "      <td>NaN</td>\n",
       "      <td>NaN</td>\n",
       "      <td>NaN</td>\n",
       "    </tr>\n",
       "    <tr>\n",
       "      <th>4</th>\n",
       "      <td>Angola</td>\n",
       "      <td>AGO</td>\n",
       "      <td>Official exchange rate (LCU per US$, period av...</td>\n",
       "      <td>PA.NUS.FCRF</td>\n",
       "      <td>2.866844e-08</td>\n",
       "      <td>2.873486e-08</td>\n",
       "      <td>2.867844e-08</td>\n",
       "      <td>2.875203e-08</td>\n",
       "      <td>2.881978e-08</td>\n",
       "      <td>2.877853e-08</td>\n",
       "      <td>...</td>\n",
       "      <td>98.302417</td>\n",
       "      <td>120.060702</td>\n",
       "      <td>163.656434</td>\n",
       "      <td>165.915951</td>\n",
       "      <td>252.855748</td>\n",
       "      <td>364.825805</td>\n",
       "      <td>578.258780</td>\n",
       "      <td>631.441956</td>\n",
       "      <td>460.567512</td>\n",
       "      <td>NaN</td>\n",
       "    </tr>\n",
       "  </tbody>\n",
       "</table>\n",
       "<p>5 rows × 68 columns</p>\n",
       "</div>"
      ],
      "text/plain": [
       "                  Country Name Country Code  \\\n",
       "0                        Aruba          ABW   \n",
       "1  Africa Eastern and Southern          AFE   \n",
       "2                  Afghanistan          AFG   \n",
       "3   Africa Western and Central          AFW   \n",
       "4                       Angola          AGO   \n",
       "\n",
       "                                      Indicator Name Indicator Code  \\\n",
       "0  Official exchange rate (LCU per US$, period av...    PA.NUS.FCRF   \n",
       "1  Official exchange rate (LCU per US$, period av...    PA.NUS.FCRF   \n",
       "2  Official exchange rate (LCU per US$, period av...    PA.NUS.FCRF   \n",
       "3  Official exchange rate (LCU per US$, period av...    PA.NUS.FCRF   \n",
       "4  Official exchange rate (LCU per US$, period av...    PA.NUS.FCRF   \n",
       "\n",
       "           1960          1961          1962          1963          1964  \\\n",
       "0           NaN           NaN           NaN           NaN           NaN   \n",
       "1           NaN           NaN           NaN           NaN           NaN   \n",
       "2  1.719656e+01  1.719656e+01  1.719656e+01  3.510964e+01  3.869226e+01   \n",
       "3           NaN           NaN           NaN           NaN           NaN   \n",
       "4  2.866844e-08  2.873486e-08  2.867844e-08  2.875203e-08  2.881978e-08   \n",
       "\n",
       "           1965  ...       2014        2015        2016        2017  \\\n",
       "0           NaN  ...   1.790000    1.790000    1.790000    1.790000   \n",
       "1           NaN  ...        NaN         NaN         NaN         NaN   \n",
       "2  3.869226e+01  ...  57.247500   61.143462   67.866086   68.026904   \n",
       "3           NaN  ...        NaN         NaN         NaN         NaN   \n",
       "4  2.877853e-08  ...  98.302417  120.060702  163.656434  165.915951   \n",
       "\n",
       "         2018        2019        2020        2021        2022  Unnamed: 67  \n",
       "0    1.790000    1.790000    1.790000    1.790000    1.790000          NaN  \n",
       "1         NaN         NaN         NaN         NaN         NaN          NaN  \n",
       "2   72.083247   77.737949   76.813536         NaN         NaN          NaN  \n",
       "3         NaN         NaN         NaN         NaN         NaN          NaN  \n",
       "4  252.855748  364.825805  578.258780  631.441956  460.567512          NaN  \n",
       "\n",
       "[5 rows x 68 columns]"
      ]
     },
     "execution_count": 27,
     "metadata": {},
     "output_type": "execute_result"
    }
   ],
   "source": [
    "df= pd.read_csv('World Exchange rate.csv',skiprows=4)\n",
    "df.head()"
   ]
  },
  {
   "cell_type": "markdown",
   "metadata": {},
   "source": [
    "EXTRACT THE WEST AFRICAN COUNTRIES"
   ]
  },
  {
   "cell_type": "code",
   "execution_count": 28,
   "metadata": {},
   "outputs": [
    {
     "name": "stdout",
     "output_type": "stream",
     "text": [
      "      Country Name Country Code  \\\n",
      "18           Benin          BEN   \n",
      "19    Burkina Faso          BFA   \n",
      "83           Ghana          GHA   \n",
      "85          Guinea          GIN   \n",
      "87   Guinea-Bissau          GNB   \n",
      "131        Liberia          LBR   \n",
      "158           Mali          MLI   \n",
      "166     Mauritania          MRT   \n",
      "173          Niger          NER   \n",
      "174        Nigeria          NGA   \n",
      "207        Senegal          SEN   \n",
      "210   Sierra Leone          SLE   \n",
      "232           Togo          TGO   \n",
      "\n",
      "                                        Indicator Name Indicator Code  \\\n",
      "18   Official exchange rate (LCU per US$, period av...    PA.NUS.FCRF   \n",
      "19   Official exchange rate (LCU per US$, period av...    PA.NUS.FCRF   \n",
      "83   Official exchange rate (LCU per US$, period av...    PA.NUS.FCRF   \n",
      "85   Official exchange rate (LCU per US$, period av...    PA.NUS.FCRF   \n",
      "87   Official exchange rate (LCU per US$, period av...    PA.NUS.FCRF   \n",
      "131  Official exchange rate (LCU per US$, period av...    PA.NUS.FCRF   \n",
      "158  Official exchange rate (LCU per US$, period av...    PA.NUS.FCRF   \n",
      "166  Official exchange rate (LCU per US$, period av...    PA.NUS.FCRF   \n",
      "173  Official exchange rate (LCU per US$, period av...    PA.NUS.FCRF   \n",
      "174  Official exchange rate (LCU per US$, period av...    PA.NUS.FCRF   \n",
      "207  Official exchange rate (LCU per US$, period av...    PA.NUS.FCRF   \n",
      "210  Official exchange rate (LCU per US$, period av...    PA.NUS.FCRF   \n",
      "232  Official exchange rate (LCU per US$, period av...    PA.NUS.FCRF   \n",
      "\n",
      "           1960        1961        1962        1963        1964        1965  \\\n",
      "18   245.195101  245.260102  245.013851  245.016351  245.027184  245.060934   \n",
      "19   245.195101  245.260102  245.013851  245.016351  245.027184  245.060934   \n",
      "83     0.000071    0.000071    0.000071    0.000071    0.000071    0.000071   \n",
      "85    24.685000   24.685000   24.685000   24.685000   24.685000   24.685000   \n",
      "87   245.195101  245.260102  245.013851  245.016351  245.027184  245.060934   \n",
      "131    1.000000    1.000000    1.000000    1.000000    1.000000    1.000000   \n",
      "158  245.195101  245.260102  245.013851  245.016351  245.027184  245.060934   \n",
      "166    4.936991    4.936991    4.936991    4.936991    4.936991    4.936991   \n",
      "173  245.195101  245.260102  245.013851  245.016351  245.027184  245.060934   \n",
      "174    0.714286    0.714286    0.714286    0.714286    0.714286    0.714286   \n",
      "207  245.195101  245.260102  245.013851  245.016351  245.027184  245.060934   \n",
      "210    0.000714    0.000714    0.000714    0.000714    0.000714    0.000714   \n",
      "232  245.195101  245.260102  245.013851  245.016351  245.027184  245.060934   \n",
      "\n",
      "     ...         2014         2015         2016         2017         2018  \\\n",
      "18   ...   493.757330   591.211698   592.605615   580.656750   555.446458   \n",
      "19   ...   493.757330   591.211698   592.605615   580.656750   555.446458   \n",
      "83   ...     2.896575     3.714642     3.909817     4.350533     4.585325   \n",
      "85   ...  7014.118777  7485.516742  8967.927080  9088.319496  9011.134177   \n",
      "87   ...   493.757330   591.211698   592.605615   580.656750   555.446458   \n",
      "131  ...    83.892500    86.188367    94.427244   112.706667   144.055576   \n",
      "158  ...   493.757330   591.211698   592.605615   580.656750   555.446458   \n",
      "166  ...    30.272500    32.467167    35.237083    35.794417    35.677500   \n",
      "173  ...   493.757330   591.211698   592.605615   580.656750   555.446458   \n",
      "174  ...   158.552642   192.440333   253.492000   305.790109   306.083688   \n",
      "207  ...   493.757330   591.211698   592.605615   580.656750   555.446458   \n",
      "210  ...     4.524159     5.080748     6.290297     7.384432     7.931632   \n",
      "232  ...   493.757330   591.211698   592.605615   580.656750   555.446458   \n",
      "\n",
      "            2019         2020        2021        2022  Unnamed: 67  \n",
      "18    585.950814   574.294550  554.607799  623.937312          NaN  \n",
      "19    585.911013   575.586005  554.530675  623.759701          NaN  \n",
      "83      5.217367     5.595708    5.805700    8.272400          NaN  \n",
      "85   9183.875864  9565.082183         NaN         NaN          NaN  \n",
      "87    585.911013   575.586005  554.530675  623.759701          NaN  \n",
      "131   186.429745   191.517958  166.153701  152.933757          NaN  \n",
      "158   585.911013   575.586005  554.530675  623.759701          NaN  \n",
      "166    36.690833    37.189167   36.063333         NaN          NaN  \n",
      "173   585.911013   575.586005  554.530675  623.759701          NaN  \n",
      "174   306.920951   358.810797  401.152029  425.979158          NaN  \n",
      "207   585.911013   575.586005  554.530675  623.759701          NaN  \n",
      "210     9.010221     9.829927   10.439425   14.047650          NaN  \n",
      "232   585.911013   575.586005  554.530675  623.759701          NaN  \n",
      "\n",
      "[13 rows x 68 columns]\n"
     ]
    }
   ],
   "source": [
    "\n",
    "# List of West African countries\n",
    "west_african_countries = ['Benin', 'Burkina Faso', 'Cape Verde', 'Côte d\\'Ivoire', 'Gambia', 'Ghana', 'Guinea', 'Guinea-Bissau', 'Liberia', 'Mali', 'Mauritania', 'Niger', 'Nigeria',  'Senegal', 'Sierra Leone', 'Togo']\n",
    "\n",
    "# Filter DataFrame to include only West African countries\n",
    "west_african_df = df[df['Country Name'].isin(west_african_countries)]\n",
    "\n",
    "# Optionally, you can print the filtered DataFrame to see the results\n",
    "print(west_african_df)\n",
    "\n",
    "# Optionally, you can save the filtered DataFrame to a new CSV file\n",
    "west_african_df.to_csv('west_african_countries.csv', index=False)\n"
   ]
  },
  {
   "cell_type": "code",
   "execution_count": 29,
   "metadata": {},
   "outputs": [
    {
     "data": {
      "text/html": [
       "<div>\n",
       "<style scoped>\n",
       "    .dataframe tbody tr th:only-of-type {\n",
       "        vertical-align: middle;\n",
       "    }\n",
       "\n",
       "    .dataframe tbody tr th {\n",
       "        vertical-align: top;\n",
       "    }\n",
       "\n",
       "    .dataframe thead th {\n",
       "        text-align: right;\n",
       "    }\n",
       "</style>\n",
       "<table border=\"1\" class=\"dataframe\">\n",
       "  <thead>\n",
       "    <tr style=\"text-align: right;\">\n",
       "      <th></th>\n",
       "      <th>Country Name</th>\n",
       "      <th>Country Code</th>\n",
       "      <th>Indicator Name</th>\n",
       "      <th>Indicator Code</th>\n",
       "      <th>1960</th>\n",
       "      <th>1961</th>\n",
       "      <th>1962</th>\n",
       "      <th>1963</th>\n",
       "      <th>1964</th>\n",
       "      <th>1965</th>\n",
       "      <th>...</th>\n",
       "      <th>2014</th>\n",
       "      <th>2015</th>\n",
       "      <th>2016</th>\n",
       "      <th>2017</th>\n",
       "      <th>2018</th>\n",
       "      <th>2019</th>\n",
       "      <th>2020</th>\n",
       "      <th>2021</th>\n",
       "      <th>2022</th>\n",
       "      <th>Unnamed: 67</th>\n",
       "    </tr>\n",
       "  </thead>\n",
       "  <tbody>\n",
       "    <tr>\n",
       "      <th>0</th>\n",
       "      <td>Benin</td>\n",
       "      <td>BEN</td>\n",
       "      <td>Official exchange rate (LCU per US$, period av...</td>\n",
       "      <td>PA.NUS.FCRF</td>\n",
       "      <td>245.195101</td>\n",
       "      <td>245.260102</td>\n",
       "      <td>245.013851</td>\n",
       "      <td>245.016351</td>\n",
       "      <td>245.027184</td>\n",
       "      <td>245.060934</td>\n",
       "      <td>...</td>\n",
       "      <td>493.757330</td>\n",
       "      <td>591.211698</td>\n",
       "      <td>592.605615</td>\n",
       "      <td>580.656750</td>\n",
       "      <td>555.446458</td>\n",
       "      <td>585.950814</td>\n",
       "      <td>574.294550</td>\n",
       "      <td>554.607799</td>\n",
       "      <td>623.937312</td>\n",
       "      <td>NaN</td>\n",
       "    </tr>\n",
       "    <tr>\n",
       "      <th>1</th>\n",
       "      <td>Burkina Faso</td>\n",
       "      <td>BFA</td>\n",
       "      <td>Official exchange rate (LCU per US$, period av...</td>\n",
       "      <td>PA.NUS.FCRF</td>\n",
       "      <td>245.195101</td>\n",
       "      <td>245.260102</td>\n",
       "      <td>245.013851</td>\n",
       "      <td>245.016351</td>\n",
       "      <td>245.027184</td>\n",
       "      <td>245.060934</td>\n",
       "      <td>...</td>\n",
       "      <td>493.757330</td>\n",
       "      <td>591.211698</td>\n",
       "      <td>592.605615</td>\n",
       "      <td>580.656750</td>\n",
       "      <td>555.446458</td>\n",
       "      <td>585.911013</td>\n",
       "      <td>575.586005</td>\n",
       "      <td>554.530675</td>\n",
       "      <td>623.759701</td>\n",
       "      <td>NaN</td>\n",
       "    </tr>\n",
       "    <tr>\n",
       "      <th>2</th>\n",
       "      <td>Ghana</td>\n",
       "      <td>GHA</td>\n",
       "      <td>Official exchange rate (LCU per US$, period av...</td>\n",
       "      <td>PA.NUS.FCRF</td>\n",
       "      <td>0.000071</td>\n",
       "      <td>0.000071</td>\n",
       "      <td>0.000071</td>\n",
       "      <td>0.000071</td>\n",
       "      <td>0.000071</td>\n",
       "      <td>0.000071</td>\n",
       "      <td>...</td>\n",
       "      <td>2.896575</td>\n",
       "      <td>3.714642</td>\n",
       "      <td>3.909817</td>\n",
       "      <td>4.350533</td>\n",
       "      <td>4.585325</td>\n",
       "      <td>5.217367</td>\n",
       "      <td>5.595708</td>\n",
       "      <td>5.805700</td>\n",
       "      <td>8.272400</td>\n",
       "      <td>NaN</td>\n",
       "    </tr>\n",
       "    <tr>\n",
       "      <th>3</th>\n",
       "      <td>Guinea</td>\n",
       "      <td>GIN</td>\n",
       "      <td>Official exchange rate (LCU per US$, period av...</td>\n",
       "      <td>PA.NUS.FCRF</td>\n",
       "      <td>24.685000</td>\n",
       "      <td>24.685000</td>\n",
       "      <td>24.685000</td>\n",
       "      <td>24.685000</td>\n",
       "      <td>24.685000</td>\n",
       "      <td>24.685000</td>\n",
       "      <td>...</td>\n",
       "      <td>7014.118777</td>\n",
       "      <td>7485.516742</td>\n",
       "      <td>8967.927080</td>\n",
       "      <td>9088.319496</td>\n",
       "      <td>9011.134177</td>\n",
       "      <td>9183.875864</td>\n",
       "      <td>9565.082183</td>\n",
       "      <td>NaN</td>\n",
       "      <td>NaN</td>\n",
       "      <td>NaN</td>\n",
       "    </tr>\n",
       "    <tr>\n",
       "      <th>4</th>\n",
       "      <td>Guinea-Bissau</td>\n",
       "      <td>GNB</td>\n",
       "      <td>Official exchange rate (LCU per US$, period av...</td>\n",
       "      <td>PA.NUS.FCRF</td>\n",
       "      <td>245.195101</td>\n",
       "      <td>245.260102</td>\n",
       "      <td>245.013851</td>\n",
       "      <td>245.016351</td>\n",
       "      <td>245.027184</td>\n",
       "      <td>245.060934</td>\n",
       "      <td>...</td>\n",
       "      <td>493.757330</td>\n",
       "      <td>591.211698</td>\n",
       "      <td>592.605615</td>\n",
       "      <td>580.656750</td>\n",
       "      <td>555.446458</td>\n",
       "      <td>585.911013</td>\n",
       "      <td>575.586005</td>\n",
       "      <td>554.530675</td>\n",
       "      <td>623.759701</td>\n",
       "      <td>NaN</td>\n",
       "    </tr>\n",
       "  </tbody>\n",
       "</table>\n",
       "<p>5 rows × 68 columns</p>\n",
       "</div>"
      ],
      "text/plain": [
       "    Country Name Country Code  \\\n",
       "0          Benin          BEN   \n",
       "1   Burkina Faso          BFA   \n",
       "2          Ghana          GHA   \n",
       "3         Guinea          GIN   \n",
       "4  Guinea-Bissau          GNB   \n",
       "\n",
       "                                      Indicator Name Indicator Code  \\\n",
       "0  Official exchange rate (LCU per US$, period av...    PA.NUS.FCRF   \n",
       "1  Official exchange rate (LCU per US$, period av...    PA.NUS.FCRF   \n",
       "2  Official exchange rate (LCU per US$, period av...    PA.NUS.FCRF   \n",
       "3  Official exchange rate (LCU per US$, period av...    PA.NUS.FCRF   \n",
       "4  Official exchange rate (LCU per US$, period av...    PA.NUS.FCRF   \n",
       "\n",
       "         1960        1961        1962        1963        1964        1965  \\\n",
       "0  245.195101  245.260102  245.013851  245.016351  245.027184  245.060934   \n",
       "1  245.195101  245.260102  245.013851  245.016351  245.027184  245.060934   \n",
       "2    0.000071    0.000071    0.000071    0.000071    0.000071    0.000071   \n",
       "3   24.685000   24.685000   24.685000   24.685000   24.685000   24.685000   \n",
       "4  245.195101  245.260102  245.013851  245.016351  245.027184  245.060934   \n",
       "\n",
       "   ...         2014         2015         2016         2017         2018  \\\n",
       "0  ...   493.757330   591.211698   592.605615   580.656750   555.446458   \n",
       "1  ...   493.757330   591.211698   592.605615   580.656750   555.446458   \n",
       "2  ...     2.896575     3.714642     3.909817     4.350533     4.585325   \n",
       "3  ...  7014.118777  7485.516742  8967.927080  9088.319496  9011.134177   \n",
       "4  ...   493.757330   591.211698   592.605615   580.656750   555.446458   \n",
       "\n",
       "          2019         2020        2021        2022  Unnamed: 67  \n",
       "0   585.950814   574.294550  554.607799  623.937312          NaN  \n",
       "1   585.911013   575.586005  554.530675  623.759701          NaN  \n",
       "2     5.217367     5.595708    5.805700    8.272400          NaN  \n",
       "3  9183.875864  9565.082183         NaN         NaN          NaN  \n",
       "4   585.911013   575.586005  554.530675  623.759701          NaN  \n",
       "\n",
       "[5 rows x 68 columns]"
      ]
     },
     "execution_count": 29,
     "metadata": {},
     "output_type": "execute_result"
    }
   ],
   "source": [
    "WA_df=pd.read_csv('west_african_countries.csv')\n",
    "WA_df.head()"
   ]
  },
  {
   "cell_type": "markdown",
   "metadata": {},
   "source": [
    "What are the top five countries with the highest exchange rate in 2022? Benin has the highest oficial exchange rate in 2022 though with slight difference from the four other countries that have an exhange rate of 623.759LCU per US$"
   ]
  },
  {
   "cell_type": "code",
   "execution_count": 30,
   "metadata": {},
   "outputs": [
    {
     "name": "stdout",
     "output_type": "stream",
     "text": [
      "Top 5 Countries by Exchange Rate in 2022\n",
      "    Country Name Country Code        2022\n",
      "0          Benin          BEN  623.937312\n",
      "1   Burkina Faso          BFA  623.759701\n",
      "4  Guinea-Bissau          GNB  623.759701\n",
      "6           Mali          MLI  623.759701\n",
      "8          Niger          NER  623.759701\n"
     ]
    }
   ],
   "source": [
    "#Filter the DataFrame to include only 2022 data\n",
    "exchange_rates_2022 = WA_df[['Country Name','Country Code', '2022']]\n",
    "\n",
    "# Sort the DataFrame by exchange rate in descending order to get the top countries\n",
    "top_countries_2022 = exchange_rates_2022.sort_values(by='2022', ascending=False)\n",
    "\n",
    "# Display the top countries with their exchange rates\n",
    "print(\"Top 5 Countries by Exchange Rate in 2022\")\n",
    "print(top_countries_2022.head(5))  # Displaying top 5 countries, you can change the number as per your requirement\n"
   ]
  },
  {
   "cell_type": "code",
   "execution_count": 31,
   "metadata": {},
   "outputs": [
    {
     "data": {
      "application/vnd.plotly.v1+json": {
       "config": {
        "plotlyServerURL": "https://plot.ly"
       },
       "data": [
        {
         "alignmentgroup": "True",
         "hovertemplate": "Country Code=%{x}<br>2022=%{y}<extra></extra>",
         "legendgroup": "",
         "marker": {
          "color": "#636efa",
          "pattern": {
           "shape": ""
          }
         },
         "name": "",
         "offsetgroup": "",
         "orientation": "v",
         "showlegend": false,
         "textposition": "auto",
         "type": "bar",
         "x": [
          "BEN",
          "BFA",
          "GNB",
          "MLI",
          "NER"
         ],
         "xaxis": "x",
         "y": [
          623.937311932306,
          623.759700911182,
          623.759700911182,
          623.759700911182,
          623.759700911182
         ],
         "yaxis": "y"
        }
       ],
       "layout": {
        "barmode": "relative",
        "legend": {
         "tracegroupgap": 0
        },
        "margin": {
         "t": 60
        },
        "template": {
         "data": {
          "bar": [
           {
            "error_x": {
             "color": "#2a3f5f"
            },
            "error_y": {
             "color": "#2a3f5f"
            },
            "marker": {
             "line": {
              "color": "#E5ECF6",
              "width": 0.5
             },
             "pattern": {
              "fillmode": "overlay",
              "size": 10,
              "solidity": 0.2
             }
            },
            "type": "bar"
           }
          ],
          "barpolar": [
           {
            "marker": {
             "line": {
              "color": "#E5ECF6",
              "width": 0.5
             },
             "pattern": {
              "fillmode": "overlay",
              "size": 10,
              "solidity": 0.2
             }
            },
            "type": "barpolar"
           }
          ],
          "carpet": [
           {
            "aaxis": {
             "endlinecolor": "#2a3f5f",
             "gridcolor": "white",
             "linecolor": "white",
             "minorgridcolor": "white",
             "startlinecolor": "#2a3f5f"
            },
            "baxis": {
             "endlinecolor": "#2a3f5f",
             "gridcolor": "white",
             "linecolor": "white",
             "minorgridcolor": "white",
             "startlinecolor": "#2a3f5f"
            },
            "type": "carpet"
           }
          ],
          "choropleth": [
           {
            "colorbar": {
             "outlinewidth": 0,
             "ticks": ""
            },
            "type": "choropleth"
           }
          ],
          "contour": [
           {
            "colorbar": {
             "outlinewidth": 0,
             "ticks": ""
            },
            "colorscale": [
             [
              0,
              "#0d0887"
             ],
             [
              0.1111111111111111,
              "#46039f"
             ],
             [
              0.2222222222222222,
              "#7201a8"
             ],
             [
              0.3333333333333333,
              "#9c179e"
             ],
             [
              0.4444444444444444,
              "#bd3786"
             ],
             [
              0.5555555555555556,
              "#d8576b"
             ],
             [
              0.6666666666666666,
              "#ed7953"
             ],
             [
              0.7777777777777778,
              "#fb9f3a"
             ],
             [
              0.8888888888888888,
              "#fdca26"
             ],
             [
              1,
              "#f0f921"
             ]
            ],
            "type": "contour"
           }
          ],
          "contourcarpet": [
           {
            "colorbar": {
             "outlinewidth": 0,
             "ticks": ""
            },
            "type": "contourcarpet"
           }
          ],
          "heatmap": [
           {
            "colorbar": {
             "outlinewidth": 0,
             "ticks": ""
            },
            "colorscale": [
             [
              0,
              "#0d0887"
             ],
             [
              0.1111111111111111,
              "#46039f"
             ],
             [
              0.2222222222222222,
              "#7201a8"
             ],
             [
              0.3333333333333333,
              "#9c179e"
             ],
             [
              0.4444444444444444,
              "#bd3786"
             ],
             [
              0.5555555555555556,
              "#d8576b"
             ],
             [
              0.6666666666666666,
              "#ed7953"
             ],
             [
              0.7777777777777778,
              "#fb9f3a"
             ],
             [
              0.8888888888888888,
              "#fdca26"
             ],
             [
              1,
              "#f0f921"
             ]
            ],
            "type": "heatmap"
           }
          ],
          "heatmapgl": [
           {
            "colorbar": {
             "outlinewidth": 0,
             "ticks": ""
            },
            "colorscale": [
             [
              0,
              "#0d0887"
             ],
             [
              0.1111111111111111,
              "#46039f"
             ],
             [
              0.2222222222222222,
              "#7201a8"
             ],
             [
              0.3333333333333333,
              "#9c179e"
             ],
             [
              0.4444444444444444,
              "#bd3786"
             ],
             [
              0.5555555555555556,
              "#d8576b"
             ],
             [
              0.6666666666666666,
              "#ed7953"
             ],
             [
              0.7777777777777778,
              "#fb9f3a"
             ],
             [
              0.8888888888888888,
              "#fdca26"
             ],
             [
              1,
              "#f0f921"
             ]
            ],
            "type": "heatmapgl"
           }
          ],
          "histogram": [
           {
            "marker": {
             "pattern": {
              "fillmode": "overlay",
              "size": 10,
              "solidity": 0.2
             }
            },
            "type": "histogram"
           }
          ],
          "histogram2d": [
           {
            "colorbar": {
             "outlinewidth": 0,
             "ticks": ""
            },
            "colorscale": [
             [
              0,
              "#0d0887"
             ],
             [
              0.1111111111111111,
              "#46039f"
             ],
             [
              0.2222222222222222,
              "#7201a8"
             ],
             [
              0.3333333333333333,
              "#9c179e"
             ],
             [
              0.4444444444444444,
              "#bd3786"
             ],
             [
              0.5555555555555556,
              "#d8576b"
             ],
             [
              0.6666666666666666,
              "#ed7953"
             ],
             [
              0.7777777777777778,
              "#fb9f3a"
             ],
             [
              0.8888888888888888,
              "#fdca26"
             ],
             [
              1,
              "#f0f921"
             ]
            ],
            "type": "histogram2d"
           }
          ],
          "histogram2dcontour": [
           {
            "colorbar": {
             "outlinewidth": 0,
             "ticks": ""
            },
            "colorscale": [
             [
              0,
              "#0d0887"
             ],
             [
              0.1111111111111111,
              "#46039f"
             ],
             [
              0.2222222222222222,
              "#7201a8"
             ],
             [
              0.3333333333333333,
              "#9c179e"
             ],
             [
              0.4444444444444444,
              "#bd3786"
             ],
             [
              0.5555555555555556,
              "#d8576b"
             ],
             [
              0.6666666666666666,
              "#ed7953"
             ],
             [
              0.7777777777777778,
              "#fb9f3a"
             ],
             [
              0.8888888888888888,
              "#fdca26"
             ],
             [
              1,
              "#f0f921"
             ]
            ],
            "type": "histogram2dcontour"
           }
          ],
          "mesh3d": [
           {
            "colorbar": {
             "outlinewidth": 0,
             "ticks": ""
            },
            "type": "mesh3d"
           }
          ],
          "parcoords": [
           {
            "line": {
             "colorbar": {
              "outlinewidth": 0,
              "ticks": ""
             }
            },
            "type": "parcoords"
           }
          ],
          "pie": [
           {
            "automargin": true,
            "type": "pie"
           }
          ],
          "scatter": [
           {
            "fillpattern": {
             "fillmode": "overlay",
             "size": 10,
             "solidity": 0.2
            },
            "type": "scatter"
           }
          ],
          "scatter3d": [
           {
            "line": {
             "colorbar": {
              "outlinewidth": 0,
              "ticks": ""
             }
            },
            "marker": {
             "colorbar": {
              "outlinewidth": 0,
              "ticks": ""
             }
            },
            "type": "scatter3d"
           }
          ],
          "scattercarpet": [
           {
            "marker": {
             "colorbar": {
              "outlinewidth": 0,
              "ticks": ""
             }
            },
            "type": "scattercarpet"
           }
          ],
          "scattergeo": [
           {
            "marker": {
             "colorbar": {
              "outlinewidth": 0,
              "ticks": ""
             }
            },
            "type": "scattergeo"
           }
          ],
          "scattergl": [
           {
            "marker": {
             "colorbar": {
              "outlinewidth": 0,
              "ticks": ""
             }
            },
            "type": "scattergl"
           }
          ],
          "scattermapbox": [
           {
            "marker": {
             "colorbar": {
              "outlinewidth": 0,
              "ticks": ""
             }
            },
            "type": "scattermapbox"
           }
          ],
          "scatterpolar": [
           {
            "marker": {
             "colorbar": {
              "outlinewidth": 0,
              "ticks": ""
             }
            },
            "type": "scatterpolar"
           }
          ],
          "scatterpolargl": [
           {
            "marker": {
             "colorbar": {
              "outlinewidth": 0,
              "ticks": ""
             }
            },
            "type": "scatterpolargl"
           }
          ],
          "scatterternary": [
           {
            "marker": {
             "colorbar": {
              "outlinewidth": 0,
              "ticks": ""
             }
            },
            "type": "scatterternary"
           }
          ],
          "surface": [
           {
            "colorbar": {
             "outlinewidth": 0,
             "ticks": ""
            },
            "colorscale": [
             [
              0,
              "#0d0887"
             ],
             [
              0.1111111111111111,
              "#46039f"
             ],
             [
              0.2222222222222222,
              "#7201a8"
             ],
             [
              0.3333333333333333,
              "#9c179e"
             ],
             [
              0.4444444444444444,
              "#bd3786"
             ],
             [
              0.5555555555555556,
              "#d8576b"
             ],
             [
              0.6666666666666666,
              "#ed7953"
             ],
             [
              0.7777777777777778,
              "#fb9f3a"
             ],
             [
              0.8888888888888888,
              "#fdca26"
             ],
             [
              1,
              "#f0f921"
             ]
            ],
            "type": "surface"
           }
          ],
          "table": [
           {
            "cells": {
             "fill": {
              "color": "#EBF0F8"
             },
             "line": {
              "color": "white"
             }
            },
            "header": {
             "fill": {
              "color": "#C8D4E3"
             },
             "line": {
              "color": "white"
             }
            },
            "type": "table"
           }
          ]
         },
         "layout": {
          "annotationdefaults": {
           "arrowcolor": "#2a3f5f",
           "arrowhead": 0,
           "arrowwidth": 1
          },
          "autotypenumbers": "strict",
          "coloraxis": {
           "colorbar": {
            "outlinewidth": 0,
            "ticks": ""
           }
          },
          "colorscale": {
           "diverging": [
            [
             0,
             "#8e0152"
            ],
            [
             0.1,
             "#c51b7d"
            ],
            [
             0.2,
             "#de77ae"
            ],
            [
             0.3,
             "#f1b6da"
            ],
            [
             0.4,
             "#fde0ef"
            ],
            [
             0.5,
             "#f7f7f7"
            ],
            [
             0.6,
             "#e6f5d0"
            ],
            [
             0.7,
             "#b8e186"
            ],
            [
             0.8,
             "#7fbc41"
            ],
            [
             0.9,
             "#4d9221"
            ],
            [
             1,
             "#276419"
            ]
           ],
           "sequential": [
            [
             0,
             "#0d0887"
            ],
            [
             0.1111111111111111,
             "#46039f"
            ],
            [
             0.2222222222222222,
             "#7201a8"
            ],
            [
             0.3333333333333333,
             "#9c179e"
            ],
            [
             0.4444444444444444,
             "#bd3786"
            ],
            [
             0.5555555555555556,
             "#d8576b"
            ],
            [
             0.6666666666666666,
             "#ed7953"
            ],
            [
             0.7777777777777778,
             "#fb9f3a"
            ],
            [
             0.8888888888888888,
             "#fdca26"
            ],
            [
             1,
             "#f0f921"
            ]
           ],
           "sequentialminus": [
            [
             0,
             "#0d0887"
            ],
            [
             0.1111111111111111,
             "#46039f"
            ],
            [
             0.2222222222222222,
             "#7201a8"
            ],
            [
             0.3333333333333333,
             "#9c179e"
            ],
            [
             0.4444444444444444,
             "#bd3786"
            ],
            [
             0.5555555555555556,
             "#d8576b"
            ],
            [
             0.6666666666666666,
             "#ed7953"
            ],
            [
             0.7777777777777778,
             "#fb9f3a"
            ],
            [
             0.8888888888888888,
             "#fdca26"
            ],
            [
             1,
             "#f0f921"
            ]
           ]
          },
          "colorway": [
           "#636efa",
           "#EF553B",
           "#00cc96",
           "#ab63fa",
           "#FFA15A",
           "#19d3f3",
           "#FF6692",
           "#B6E880",
           "#FF97FF",
           "#FECB52"
          ],
          "font": {
           "color": "#2a3f5f"
          },
          "geo": {
           "bgcolor": "white",
           "lakecolor": "white",
           "landcolor": "#E5ECF6",
           "showlakes": true,
           "showland": true,
           "subunitcolor": "white"
          },
          "hoverlabel": {
           "align": "left"
          },
          "hovermode": "closest",
          "mapbox": {
           "style": "light"
          },
          "paper_bgcolor": "white",
          "plot_bgcolor": "#E5ECF6",
          "polar": {
           "angularaxis": {
            "gridcolor": "white",
            "linecolor": "white",
            "ticks": ""
           },
           "bgcolor": "#E5ECF6",
           "radialaxis": {
            "gridcolor": "white",
            "linecolor": "white",
            "ticks": ""
           }
          },
          "scene": {
           "xaxis": {
            "backgroundcolor": "#E5ECF6",
            "gridcolor": "white",
            "gridwidth": 2,
            "linecolor": "white",
            "showbackground": true,
            "ticks": "",
            "zerolinecolor": "white"
           },
           "yaxis": {
            "backgroundcolor": "#E5ECF6",
            "gridcolor": "white",
            "gridwidth": 2,
            "linecolor": "white",
            "showbackground": true,
            "ticks": "",
            "zerolinecolor": "white"
           },
           "zaxis": {
            "backgroundcolor": "#E5ECF6",
            "gridcolor": "white",
            "gridwidth": 2,
            "linecolor": "white",
            "showbackground": true,
            "ticks": "",
            "zerolinecolor": "white"
           }
          },
          "shapedefaults": {
           "line": {
            "color": "#2a3f5f"
           }
          },
          "ternary": {
           "aaxis": {
            "gridcolor": "white",
            "linecolor": "white",
            "ticks": ""
           },
           "baxis": {
            "gridcolor": "white",
            "linecolor": "white",
            "ticks": ""
           },
           "bgcolor": "#E5ECF6",
           "caxis": {
            "gridcolor": "white",
            "linecolor": "white",
            "ticks": ""
           }
          },
          "title": {
           "x": 0.05
          },
          "xaxis": {
           "automargin": true,
           "gridcolor": "white",
           "linecolor": "white",
           "ticks": "",
           "title": {
            "standoff": 15
           },
           "zerolinecolor": "white",
           "zerolinewidth": 2
          },
          "yaxis": {
           "automargin": true,
           "gridcolor": "white",
           "linecolor": "white",
           "ticks": "",
           "title": {
            "standoff": 15
           },
           "zerolinecolor": "white",
           "zerolinewidth": 2
          }
         }
        },
        "xaxis": {
         "anchor": "y",
         "domain": [
          0,
          1
         ],
         "title": {
          "text": "Country Code"
         }
        },
        "yaxis": {
         "anchor": "x",
         "domain": [
          0,
          1
         ],
         "title": {
          "text": "2022"
         }
        }
       }
      }
     },
     "metadata": {},
     "output_type": "display_data"
    }
   ],
   "source": [
    "fig = px.bar(top_countries_2022.head(5), x='Country Code', y='2022')\n",
    "fig.show()"
   ]
  },
  {
   "cell_type": "markdown",
   "metadata": {},
   "source": [
    "What are the top five countries with the highest average exchange rate over the years? Guinea has had the highest average exchange rate from 1960 to 2022 with an average value of 2152.07LCU per US$."
   ]
  },
  {
   "cell_type": "code",
   "execution_count": 32,
   "metadata": {},
   "outputs": [
    {
     "name": "stdout",
     "output_type": "stream",
     "text": [
      "Top 5 Countries with the Highest Average Exchange Rates from 1960 to 2022:\n",
      "    Country Name Country Code  Avg_Exchange_Rate\n",
      "3         Guinea          GIN        2152.074621\n",
      "1   Burkina Faso          BFA         404.546627\n",
      "4  Guinea-Bissau          GNB         404.546627\n",
      "6           Mali          MLI         404.546627\n",
      "8          Niger          NER         404.546627\n"
     ]
    }
   ],
   "source": [
    "# Filter the DataFrame to include only columns from 1960 to 2022\n",
    "exchange_rates_years = WA_df.loc[:, '1960':'2022']\n",
    "\n",
    "# Calculate the average exchange rate across all years for each country\n",
    "WA_df['Avg_Exchange_Rate'] = exchange_rates_years.mean(axis=1)\n",
    "\n",
    "# Sort the DataFrame by average exchange rate in descending order to get the top countries\n",
    "top_countries_avg_exchange_rate = WA_df.sort_values(by='Avg_Exchange_Rate', ascending=False)\n",
    "\n",
    "# Display the top 5 countries with the highest average exchange rates\n",
    "print(\"Top 5 Countries with the Highest Average Exchange Rates from 1960 to 2022:\")\n",
    "print(top_countries_avg_exchange_rate[['Country Name','Country Code', 'Avg_Exchange_Rate']].head(5))\n"
   ]
  },
  {
   "cell_type": "markdown",
   "metadata": {},
   "source": [
    "What are the bottom five countries with the lowest average exchange rate over the years? Ghana has the lowest avg exchange rate with 0.976LCU per US$."
   ]
  },
  {
   "cell_type": "code",
   "execution_count": 33,
   "metadata": {},
   "outputs": [
    {
     "name": "stdout",
     "output_type": "stream",
     "text": [
      "Bottom 5 Countries with the Highest Average Exchange Rates from 1960 to 2022:\n",
      "    Country Name Country Code  Avg_Exchange_Rate\n",
      "2          Ghana          GHA           0.975856\n",
      "11  Sierra Leone          SLE           2.004294\n",
      "7     Mauritania          MRT          15.087220\n",
      "5        Liberia          LBR          52.119505\n",
      "9        Nigeria          NGA          77.328981\n"
     ]
    }
   ],
   "source": [
    "# Filter the DataFrame to include only columns from 1960 to 2022\n",
    "exchange_rates_years = WA_df.loc[:, '1960':'2022']\n",
    "\n",
    "# Calculate the average exchange rate across all years for each country\n",
    "WA_df['Avg_Exchange_Rate'] = exchange_rates_years.mean(axis=1)\n",
    "\n",
    "# Sort the DataFrame by average exchange rate in descending order to get the top countries\n",
    "bottom_countries_avg_exchange_rate = WA_df.sort_values(by='Avg_Exchange_Rate', ascending=True)\n",
    "\n",
    "# Display the top 10 countries with the highest average exchange rates\n",
    "print(\"Bottom 5 Countries with the Highest Average Exchange Rates from 1960 to 2022:\")\n",
    "print(bottom_countries_avg_exchange_rate[['Country Name','Country Code', 'Avg_Exchange_Rate']].head(5))"
   ]
  }
 ],
 "metadata": {
  "kernelspec": {
   "display_name": "base",
   "language": "python",
   "name": "python3"
  },
  "language_info": {
   "codemirror_mode": {
    "name": "ipython",
    "version": 3
   },
   "file_extension": ".py",
   "mimetype": "text/x-python",
   "name": "python",
   "nbconvert_exporter": "python",
   "pygments_lexer": "ipython3",
   "version": "3.11.7"
  }
 },
 "nbformat": 4,
 "nbformat_minor": 2
}
